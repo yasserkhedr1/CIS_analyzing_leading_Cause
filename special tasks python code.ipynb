{
 "cells": [
  {
   "cell_type": "code",
   "execution_count": null,
   "id": "0eed211c",
   "metadata": {},
   "outputs": [],
   "source": [
    "#this code for trasnpose all the files \n",
    "import os\n",
    "import pandas as pd\n",
    "\n",
    "# Define the path to the folder containing the CSV files\n",
    "folder_path = 'your folder path'\n",
    "\n",
    "# Loop through each file in the folder\n",
    "for filename in os.listdir(folder_path):\n",
    "    if filename.endswith('.csv'):\n",
    "        # Load the CSV file into a Pandas dataframe\n",
    "        file_path = os.path.join(folder_path, filename)\n",
    "        df = pd.read_csv(file_path)\n",
    "\n",
    "        # Transpose the dataframe\n",
    "        df_transposed = df.transpose()\n",
    "\n",
    "        # Save the transposed dataframe to a new CSV file\n",
    "        output_path = os.path.join(folder_path, f'transposed_{filename}')\n",
    "        df_transposed.to_csv(output_path, header=False)\n",
    "\n",
    "        print(f\"{filename} transposed and saved as {output_path}\")"
   ]
  },
  {
   "cell_type": "code",
   "execution_count": null,
   "id": "48701d7b",
   "metadata": {},
   "outputs": [],
   "source": [
    "#this code to upload all the files to Amazon s3\n",
    "import os\n",
    "import boto3\n",
    "aws_access_key_id = 'type your access code here'\n",
    "aws_secret_access_key = 'type your secret key here'\n",
    "\n",
    "\n",
    "# Create an S3 client with the IAM credentials\n",
    "s3 = boto3.client('s3', aws_access_key_id=aws_access_key_id, aws_secret_access_key=aws_secret_access_key)\n",
    "\n",
    "# Define the name of your S3 bucket\n",
    "bucket_name = 'your bucket name'\n",
    "\n",
    "# Define the path within the bucket where you want to upload the files\n",
    "s3_folder_path = 'your file bath '\n",
    "\n",
    "# Loop through each file in the \"stock performance\" folder and upload it to the S3 bucket\n",
    "for root, dirs, files in os.walk('your files folder '):\n",
    "    for file_name in files:\n",
    "        # Construct the full local path of the file\n",
    "        local_path = os.path.join(root, file_name)\n",
    "        \n",
    "        # Construct the full S3 path of the file\n",
    "        s3_path = os.path.join(s3_folder_path, local_path[len('stock')+1:])\n",
    "        \n",
    "        # Upload the file to the S3 bucket\n",
    "        s3.upload_file(local_path, bucket_name, s3_path)"
   ]
  }
 ],
 "metadata": {
  "kernelspec": {
   "display_name": "Python 3 (ipykernel)",
   "language": "python",
   "name": "python3"
  },
  "language_info": {
   "codemirror_mode": {
    "name": "ipython",
    "version": 3
   },
   "file_extension": ".py",
   "mimetype": "text/x-python",
   "name": "python",
   "nbconvert_exporter": "python",
   "pygments_lexer": "ipython3",
   "version": "3.9.13"
  }
 },
 "nbformat": 4,
 "nbformat_minor": 5
}
